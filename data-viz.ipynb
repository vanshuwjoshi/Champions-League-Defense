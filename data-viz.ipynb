{
 "cells": [
  {
   "cell_type": "code",
   "execution_count": 24,
   "metadata": {},
   "outputs": [],
   "source": [
    "import pandas as pd\n",
    "import numpy as np\n",
    "import matplotlib.pyplot as plt\n",
    "import seaborn as sns\n",
    "%matplotlib inline"
   ]
  },
  {
   "cell_type": "code",
   "execution_count": 2,
   "metadata": {},
   "outputs": [
    {
     "data": {
      "text/html": [
       "<div>\n",
       "<style scoped>\n",
       "    .dataframe tbody tr th:only-of-type {\n",
       "        vertical-align: middle;\n",
       "    }\n",
       "\n",
       "    .dataframe tbody tr th {\n",
       "        vertical-align: top;\n",
       "    }\n",
       "\n",
       "    .dataframe thead th {\n",
       "        text-align: right;\n",
       "    }\n",
       "</style>\n",
       "<table border=\"1\" class=\"dataframe\">\n",
       "  <thead>\n",
       "    <tr style=\"text-align: right;\">\n",
       "      <th></th>\n",
       "      <th>Round</th>\n",
       "      <th>Home</th>\n",
       "      <th>Score</th>\n",
       "      <th>Away</th>\n",
       "      <th>Home_Score</th>\n",
       "      <th>Away_Score</th>\n",
       "      <th>Winner_team</th>\n",
       "      <th>Winner_Home_Away</th>\n",
       "      <th>Season</th>\n",
       "    </tr>\n",
       "  </thead>\n",
       "  <tbody>\n",
       "    <tr>\n",
       "      <th>0</th>\n",
       "      <td>Group stage</td>\n",
       "      <td>NK Olimpija Ljubljana</td>\n",
       "      <td>3–0</td>\n",
       "      <td>FC Norma Tallinn</td>\n",
       "      <td>3.0</td>\n",
       "      <td>0.0</td>\n",
       "      <td>NK Olimpija Ljubljana</td>\n",
       "      <td>Home</td>\n",
       "      <td>1992-1993</td>\n",
       "    </tr>\n",
       "    <tr>\n",
       "      <th>1</th>\n",
       "      <td>Group stage</td>\n",
       "      <td>Valletta FC</td>\n",
       "      <td>1–2</td>\n",
       "      <td>Maccabi Tel Aviv FC</td>\n",
       "      <td>1.0</td>\n",
       "      <td>2.0</td>\n",
       "      <td>Maccabi Tel Aviv FC</td>\n",
       "      <td>Away</td>\n",
       "      <td>1992-1993</td>\n",
       "    </tr>\n",
       "    <tr>\n",
       "      <th>2</th>\n",
       "      <td>Group stage</td>\n",
       "      <td>Away</td>\n",
       "      <td>1–3</td>\n",
       "      <td>Skonto FC</td>\n",
       "      <td>1.0</td>\n",
       "      <td>3.0</td>\n",
       "      <td>Skonto FC</td>\n",
       "      <td>Away</td>\n",
       "      <td>1992-1993</td>\n",
       "    </tr>\n",
       "    <tr>\n",
       "      <th>3</th>\n",
       "      <td>Group stage</td>\n",
       "      <td>Shelbourne FC</td>\n",
       "      <td>0–0</td>\n",
       "      <td>Tavriya Simferopol</td>\n",
       "      <td>0.0</td>\n",
       "      <td>0.0</td>\n",
       "      <td>Draw</td>\n",
       "      <td>Draw</td>\n",
       "      <td>1992-1993</td>\n",
       "    </tr>\n",
       "    <tr>\n",
       "      <th>4</th>\n",
       "      <td>Group stage</td>\n",
       "      <td>FC Norma Tallinn</td>\n",
       "      <td>0–2</td>\n",
       "      <td>NK Olimpija Ljubljana</td>\n",
       "      <td>0.0</td>\n",
       "      <td>2.0</td>\n",
       "      <td>NK Olimpija Ljubljana</td>\n",
       "      <td>Away</td>\n",
       "      <td>1992-1993</td>\n",
       "    </tr>\n",
       "  </tbody>\n",
       "</table>\n",
       "</div>"
      ],
      "text/plain": [
       "         Round                   Home Score                   Away  \\\n",
       "0  Group stage  NK Olimpija Ljubljana   3–0       FC Norma Tallinn   \n",
       "1  Group stage            Valletta FC   1–2    Maccabi Tel Aviv FC   \n",
       "2  Group stage                   Away   1–3              Skonto FC   \n",
       "3  Group stage          Shelbourne FC   0–0     Tavriya Simferopol   \n",
       "4  Group stage       FC Norma Tallinn   0–2  NK Olimpija Ljubljana   \n",
       "\n",
       "   Home_Score  Away_Score            Winner_team Winner_Home_Away     Season  \n",
       "0         3.0         0.0  NK Olimpija Ljubljana             Home  1992-1993  \n",
       "1         1.0         2.0    Maccabi Tel Aviv FC             Away  1992-1993  \n",
       "2         1.0         3.0              Skonto FC             Away  1992-1993  \n",
       "3         0.0         0.0                   Draw             Draw  1992-1993  \n",
       "4         0.0         2.0  NK Olimpija Ljubljana             Away  1992-1993  "
      ]
     },
     "execution_count": 2,
     "metadata": {},
     "output_type": "execute_result"
    }
   ],
   "source": [
    "df = pd.read_csv(\"./data/all-seasons.csv\")\n",
    "df.head()"
   ]
  },
  {
   "cell_type": "code",
   "execution_count": 5,
   "metadata": {},
   "outputs": [
    {
     "data": {
      "text/html": [
       "<div>\n",
       "<style scoped>\n",
       "    .dataframe tbody tr th:only-of-type {\n",
       "        vertical-align: middle;\n",
       "    }\n",
       "\n",
       "    .dataframe tbody tr th {\n",
       "        vertical-align: top;\n",
       "    }\n",
       "\n",
       "    .dataframe thead th {\n",
       "        text-align: right;\n",
       "    }\n",
       "</style>\n",
       "<table border=\"1\" class=\"dataframe\">\n",
       "  <thead>\n",
       "    <tr style=\"text-align: right;\">\n",
       "      <th></th>\n",
       "      <th>Round</th>\n",
       "      <th>Home</th>\n",
       "      <th>Score</th>\n",
       "      <th>Away</th>\n",
       "      <th>Home_Score</th>\n",
       "      <th>Away_Score</th>\n",
       "      <th>Winner_team</th>\n",
       "      <th>Winner_Home_Away</th>\n",
       "      <th>Season</th>\n",
       "    </tr>\n",
       "  </thead>\n",
       "  <tbody>\n",
       "    <tr>\n",
       "      <th>81</th>\n",
       "      <td>Final</td>\n",
       "      <td>Marseille</td>\n",
       "      <td>1–0</td>\n",
       "      <td>Milan</td>\n",
       "      <td>1.0</td>\n",
       "      <td>0.0</td>\n",
       "      <td>Marseille</td>\n",
       "      <td>Home</td>\n",
       "      <td>1992-1993</td>\n",
       "    </tr>\n",
       "    <tr>\n",
       "      <th>175</th>\n",
       "      <td>Final</td>\n",
       "      <td>Milan</td>\n",
       "      <td>4–0</td>\n",
       "      <td>Barcelona</td>\n",
       "      <td>4.0</td>\n",
       "      <td>0.0</td>\n",
       "      <td>Milan</td>\n",
       "      <td>Home</td>\n",
       "      <td>1993-1994</td>\n",
       "    </tr>\n",
       "    <tr>\n",
       "      <th>236</th>\n",
       "      <td>Final</td>\n",
       "      <td>Ajax</td>\n",
       "      <td>1–0</td>\n",
       "      <td>Milan</td>\n",
       "      <td>1.0</td>\n",
       "      <td>0.0</td>\n",
       "      <td>Ajax</td>\n",
       "      <td>Home</td>\n",
       "      <td>1994-1995</td>\n",
       "    </tr>\n",
       "    <tr>\n",
       "      <th>357</th>\n",
       "      <td>Final</td>\n",
       "      <td>Dortmund</td>\n",
       "      <td>3–1</td>\n",
       "      <td>Juventus</td>\n",
       "      <td>3.0</td>\n",
       "      <td>1.0</td>\n",
       "      <td>Dortmund</td>\n",
       "      <td>Home</td>\n",
       "      <td>1996-1997</td>\n",
       "    </tr>\n",
       "    <tr>\n",
       "      <th>442</th>\n",
       "      <td>Final</td>\n",
       "      <td>Juventus</td>\n",
       "      <td>0–1</td>\n",
       "      <td>Real Madrid</td>\n",
       "      <td>0.0</td>\n",
       "      <td>1.0</td>\n",
       "      <td>Real Madrid</td>\n",
       "      <td>Away</td>\n",
       "      <td>1997-1998</td>\n",
       "    </tr>\n",
       "  </tbody>\n",
       "</table>\n",
       "</div>"
      ],
      "text/plain": [
       "     Round       Home Score         Away  Home_Score  Away_Score  Winner_team  \\\n",
       "81   Final  Marseille   1–0        Milan         1.0         0.0    Marseille   \n",
       "175  Final      Milan   4–0    Barcelona         4.0         0.0        Milan   \n",
       "236  Final       Ajax   1–0        Milan         1.0         0.0         Ajax   \n",
       "357  Final   Dortmund   3–1     Juventus         3.0         1.0     Dortmund   \n",
       "442  Final   Juventus   0–1  Real Madrid         0.0         1.0  Real Madrid   \n",
       "\n",
       "    Winner_Home_Away     Season  \n",
       "81              Home  1992-1993  \n",
       "175             Home  1993-1994  \n",
       "236             Home  1994-1995  \n",
       "357             Home  1996-1997  \n",
       "442             Away  1997-1998  "
      ]
     },
     "execution_count": 5,
     "metadata": {},
     "output_type": "execute_result"
    }
   ],
   "source": [
    "## Remove the final games (as there are no home and away)\n",
    "df_finals = df[df[\"Round\"] == \"Final\"]\n",
    "df_finals.head()"
   ]
  },
  {
   "cell_type": "code",
   "execution_count": 8,
   "metadata": {},
   "outputs": [
    {
     "data": {
      "text/plain": [
       "(26, 9)"
      ]
     },
     "execution_count": 8,
     "metadata": {},
     "output_type": "execute_result"
    }
   ],
   "source": [
    "df_finals.shape"
   ]
  },
  {
   "cell_type": "code",
   "execution_count": 7,
   "metadata": {},
   "outputs": [
    {
     "data": {
      "text/plain": [
       "(3758, 9)"
      ]
     },
     "execution_count": 7,
     "metadata": {},
     "output_type": "execute_result"
    }
   ],
   "source": [
    "df.shape"
   ]
  },
  {
   "cell_type": "code",
   "execution_count": 9,
   "metadata": {},
   "outputs": [
    {
     "data": {
      "text/plain": [
       "(3732, 9)"
      ]
     },
     "execution_count": 9,
     "metadata": {},
     "output_type": "execute_result"
    }
   ],
   "source": [
    "df = df[df[\"Round\"] != \"Final\"]\n",
    "df.shape"
   ]
  },
  {
   "cell_type": "code",
   "execution_count": 15,
   "metadata": {},
   "outputs": [
    {
     "data": {
      "text/plain": [
       "Winner_Home_Away\n",
       "Home    1823\n",
       "Away    1039\n",
       "Draw     870\n",
       "Name: count, dtype: int64"
      ]
     },
     "execution_count": 15,
     "metadata": {},
     "output_type": "execute_result"
    }
   ],
   "source": [
    "home_or_away = df[\"Winner_Home_Away\"].value_counts()\n",
    "home_or_away"
   ]
  },
  {
   "cell_type": "code",
   "execution_count": 16,
   "metadata": {},
   "outputs": [],
   "source": [
    "home_wins = home_or_away.iloc[0]\n",
    "away_wins = home_or_away.iloc[1]\n",
    "draws = home_or_away.iloc[2]\n",
    "total = df.shape[0]"
   ]
  },
  {
   "cell_type": "code",
   "execution_count": 23,
   "metadata": {},
   "outputs": [
    {
     "data": {
      "text/plain": [
       "49"
      ]
     },
     "execution_count": 23,
     "metadata": {},
     "output_type": "execute_result"
    }
   ],
   "source": [
    "round((home_wins/total)*100)"
   ]
  },
  {
   "cell_type": "code",
   "execution_count": 22,
   "metadata": {},
   "outputs": [
    {
     "data": {
      "text/plain": [
       "28"
      ]
     },
     "execution_count": 22,
     "metadata": {},
     "output_type": "execute_result"
    }
   ],
   "source": [
    "round((away_wins/total)*100)"
   ]
  },
  {
   "cell_type": "code",
   "execution_count": 37,
   "metadata": {},
   "outputs": [
    {
     "data": {
      "image/png": "[encoded data removed]",
      "text/plain": [
       "<Figure size 640x480 with 1 Axes>"
      ]
     },
     "metadata": {},
     "output_type": "display_data"
    }
   ],
   "source": [
    "sns.countplot(data=df, x=\"Winner_Home_Away\", palette=\"rocket\")\n",
    "plt.xlabel(\"\")\n",
    "plt.ylabel(\"\")\n",
    "plt.title(\"Distribution of winners (3732 matches)\")\n",
    "plt.show()"
   ]
  },
  {
   "cell_type": "code",
   "execution_count": 38,
   "metadata": {},
   "outputs": [
    {
     "name": "stdout",
     "output_type": "stream",
     "text": [
      "Home team has a 75% chance of winning compared to away team winning\n"
     ]
    }
   ],
   "source": [
    "print(\n",
    "    f\"Home team has a {round(((home_wins-away_wins)/away_wins)*100)}%\"\n",
    "    + \" chance of winning compared to away team winning\"\n",
    ")"
   ]
  },
  {
   "cell_type": "code",
   "execution_count": null,
   "metadata": {},
   "outputs": [],
   "source": []
  }
 ],
 "metadata": {
  "kernelspec": {
   "display_name": "Python 3",
   "language": "python",
   "name": "python3"
  },
  "language_info": {
   "codemirror_mode": {
    "name": "ipython",
    "version": 3
   },
   "file_extension": ".py",
   "mimetype": "text/x-python",
   "name": "python",
   "nbconvert_exporter": "python",
   "pygments_lexer": "ipython3",
   "version": "3.11.0"
  }
 },
 "nbformat": 4,
 "nbformat_minor": 2
}
